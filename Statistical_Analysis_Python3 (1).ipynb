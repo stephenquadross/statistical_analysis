{
 "cells": [
  {
   "cell_type": "code",
   "execution_count": 3,
   "id": "07f1d940-3513-441d-832e-01e2bba0dd72",
   "metadata": {},
   "outputs": [],
   "source": [
    "#importing libraries\n",
    "import numpy as np\n",
    "import pandas as pd\n",
    "import scipy.stats as stats"
   ]
  },
  {
   "cell_type": "code",
   "execution_count": 4,
   "id": "53bc8688-0009-413c-8ac4-3601a4bf4a33",
   "metadata": {},
   "outputs": [
    {
     "name": "stdout",
     "output_type": "stream",
     "text": [
      "40.0\n",
      "40.0\n",
      "ModeResult(mode=10, count=1)\n",
      "400.0\n"
     ]
    }
   ],
   "source": [
    "#descriptive statistics\n",
    "data = np.array([10,20,30,40,50,60,70])\n",
    "mean = np.mean(data)\n",
    "median = np.median(data)\n",
    "mode = stats.mode(data)\n",
    "variance = np.var(data)\n",
    "\n",
    "print(mean)\n",
    "print(median)\n",
    "print(mode)\n",
    "print(variance)"
   ]
  },
  {
   "cell_type": "code",
   "execution_count": 5,
   "id": "ec49affc-da2c-4838-a03b-10a003cfec3a",
   "metadata": {},
   "outputs": [
    {
     "name": "stdout",
     "output_type": "stream",
     "text": [
      "0.95\n"
     ]
    }
   ],
   "source": [
    "#inferential statistics \n",
    "confidence_level = 0.95\n",
    "degrees_freedom = len(data)-1\n",
    "confidence_interval = stats.t.interval(confidence_level,degrees_freedom,mean, stats.sem(data))\n",
    "print(confidence_level)"
   ]
  },
  {
   "cell_type": "code",
   "execution_count": 9,
   "id": "8508d031-a774-46dd-8e9b-6cc4eedaff41",
   "metadata": {},
   "outputs": [
    {
     "name": "stdout",
     "output_type": "stream",
     "text": [
      "-3.2359903436078983\n",
      "0.0014208821931449166\n"
     ]
    }
   ],
   "source": [
    "#hypothesis testing [exists a significant difference]\n",
    "np.random.seed(42)\n",
    "groupA = np.random.normal(50,10,100)\n",
    "groupB = np.random.normal(53,10,100)\n",
    "groupC = np.random.normal(51,10,100)\n",
    "t_stat,p_value = stats.ttest_ind(groupA,groupB)\n",
    "#use ANOVA(Analysis of Variance) for testing more than one hypothesis\n",
    "f_value, p_value = stats.f_oneway(groupA,groupB,groupC)\n",
    "\n",
    "print(t_stat)\n",
    "print(p_value)"
   ]
  },
  {
   "cell_type": "code",
   "execution_count": 11,
   "id": "d038ff5e-28f5-4946-98f9-1d8bc02dc261",
   "metadata": {},
   "outputs": [
    {
     "name": "stdout",
     "output_type": "stream",
     "text": [
      "    Age  Salary  Gender  Years_at_company\n",
      "0  25.0  5000.0    Male               1.0\n",
      "1  26.0  5400.0  Female               2.0\n",
      "2   NaN  5800.0    Male               3.0\n",
      "3  29.0     NaN  Female               NaN\n",
      "4  22.0  5900.0    Male               2.0\n",
      "5  34.0  6000.0  Female               8.0\n"
     ]
    }
   ],
   "source": [
    "#Data Wrangling & Preprosessing - accertain data quality \n",
    "\n",
    "import pandas as pd\n",
    "\n",
    "data1 = {\n",
    "    \"Age\" : [25,26, np.nan,29,22,34],\n",
    "    \"Salary\" : [5000,5400,5800,None,5900,6000],\n",
    "    \"Gender\" : ['Male','Female','Male','Female','Male','Female'],\n",
    "    \"Years_at_company\" : [1,2,3,np.nan,2,8]\n",
    "}\n",
    "df = pd.DataFrame(data1)\n",
    "print(df)\n",
    "\n"
   ]
  },
  {
   "cell_type": "code",
   "execution_count": 13,
   "id": "cd5bd089-a721-497c-b068-f28cfef8c6f6",
   "metadata": {},
   "outputs": [
    {
     "data": {
      "text/plain": [
       "Age                 1\n",
       "Salary              1\n",
       "Gender              0\n",
       "Years_at_company    1\n",
       "dtype: int64"
      ]
     },
     "execution_count": 13,
     "metadata": {},
     "output_type": "execute_result"
    }
   ],
   "source": [
    "#missing values\n",
    "missing = df.isnull().sum()\n",
    "missing"
   ]
  },
  {
   "cell_type": "code",
   "execution_count": 15,
   "id": "91b5b38b-befa-44f3-a17f-3d5e900eb2a9",
   "metadata": {},
   "outputs": [],
   "source": [
    "#use simple imputer from skitlearn to handle missing values\n",
    "\n",
    "from sklearn.impute import SimpleImputer\n",
    "num_imputer = SimpleImputer(strategy=\"median\")\n",
    "df['Age'] = num_imputer.fit_transform(df[['Age']])\n",
    "df['Years_at_company'] = num_imputer.fit_transform(df[['Years_at_company']])"
   ]
  },
  {
   "cell_type": "code",
   "execution_count": 16,
   "id": "b60b79f0-1202-4de5-b56a-e5dc7a07e0f0",
   "metadata": {},
   "outputs": [
    {
     "data": {
      "text/html": [
       "<div>\n",
       "<style scoped>\n",
       "    .dataframe tbody tr th:only-of-type {\n",
       "        vertical-align: middle;\n",
       "    }\n",
       "\n",
       "    .dataframe tbody tr th {\n",
       "        vertical-align: top;\n",
       "    }\n",
       "\n",
       "    .dataframe thead th {\n",
       "        text-align: right;\n",
       "    }\n",
       "</style>\n",
       "<table border=\"1\" class=\"dataframe\">\n",
       "  <thead>\n",
       "    <tr style=\"text-align: right;\">\n",
       "      <th></th>\n",
       "      <th>Age</th>\n",
       "      <th>Salary</th>\n",
       "      <th>Gender</th>\n",
       "      <th>Years_at_company</th>\n",
       "    </tr>\n",
       "  </thead>\n",
       "  <tbody>\n",
       "    <tr>\n",
       "      <th>0</th>\n",
       "      <td>25.0</td>\n",
       "      <td>5000.0</td>\n",
       "      <td>Male</td>\n",
       "      <td>1.0</td>\n",
       "    </tr>\n",
       "    <tr>\n",
       "      <th>1</th>\n",
       "      <td>26.0</td>\n",
       "      <td>5400.0</td>\n",
       "      <td>Female</td>\n",
       "      <td>2.0</td>\n",
       "    </tr>\n",
       "    <tr>\n",
       "      <th>2</th>\n",
       "      <td>26.0</td>\n",
       "      <td>5800.0</td>\n",
       "      <td>Male</td>\n",
       "      <td>3.0</td>\n",
       "    </tr>\n",
       "    <tr>\n",
       "      <th>3</th>\n",
       "      <td>29.0</td>\n",
       "      <td>5000.0</td>\n",
       "      <td>Female</td>\n",
       "      <td>2.0</td>\n",
       "    </tr>\n",
       "    <tr>\n",
       "      <th>4</th>\n",
       "      <td>22.0</td>\n",
       "      <td>5900.0</td>\n",
       "      <td>Male</td>\n",
       "      <td>2.0</td>\n",
       "    </tr>\n",
       "    <tr>\n",
       "      <th>5</th>\n",
       "      <td>34.0</td>\n",
       "      <td>6000.0</td>\n",
       "      <td>Female</td>\n",
       "      <td>8.0</td>\n",
       "    </tr>\n",
       "  </tbody>\n",
       "</table>\n",
       "</div>"
      ],
      "text/plain": [
       "    Age  Salary  Gender  Years_at_company\n",
       "0  25.0  5000.0    Male               1.0\n",
       "1  26.0  5400.0  Female               2.0\n",
       "2  26.0  5800.0    Male               3.0\n",
       "3  29.0  5000.0  Female               2.0\n",
       "4  22.0  5900.0    Male               2.0\n",
       "5  34.0  6000.0  Female               8.0"
      ]
     },
     "execution_count": 16,
     "metadata": {},
     "output_type": "execute_result"
    }
   ],
   "source": [
    "#impute categorical variable\n",
    "cat_imputer = SimpleImputer(strategy = 'most_frequent')\n",
    "df['Salary'] = cat_imputer.fit_transform(df[['Salary']])\n",
    "df"
   ]
  },
  {
   "cell_type": "code",
   "execution_count": 17,
   "id": "4e8cc424-c7b6-4bf3-86a8-91295795f0aa",
   "metadata": {},
   "outputs": [
    {
     "data": {
      "text/plain": [
       "0     25.0\n",
       "1     52.0\n",
       "2     78.0\n",
       "3     58.0\n",
       "4     44.0\n",
       "5    272.0\n",
       "Name: Age_years_at_company_interaction, dtype: float64"
      ]
     },
     "execution_count": 17,
     "metadata": {},
     "output_type": "execute_result"
    }
   ],
   "source": [
    "#feature engineering - feature that help improve quality of data\n",
    "df['Age_years_at_company_interaction'] = df['Age']*df['Years_at_company']\n",
    "df['Age_years_at_company_interaction']\n"
   ]
  },
  {
   "cell_type": "code",
   "execution_count": 27,
   "id": "1b5b886f-2efb-4b1f-8ccd-9a5e8ae98f20",
   "metadata": {},
   "outputs": [
    {
     "name": "stdout",
     "output_type": "stream",
     "text": [
      "  Employee     Dept\n",
      "0     John  Finance\n",
      "1   Makara     Data   Employee  Project\n",
      "0     John   Budget\n",
      "1   Makara  Billing\n"
     ]
    }
   ],
   "source": [
    "df1 = pd.DataFrame({'Employee':['John', 'Makara'],\n",
    "                    'Dept' : ['Finance', 'Data']})\n",
    "df2 = pd.DataFrame({'Employee' :['John', 'Makara'],\n",
    "                    'Project' :['Budget', 'Billing']})\n",
    "print(df1,df2)\n",
    "                    "
   ]
  },
  {
   "cell_type": "code",
   "execution_count": 29,
   "id": "93d9b6e2-b149-4850-bd87-144581078c85",
   "metadata": {},
   "outputs": [
    {
     "data": {
      "text/html": [
       "<div>\n",
       "<style scoped>\n",
       "    .dataframe tbody tr th:only-of-type {\n",
       "        vertical-align: middle;\n",
       "    }\n",
       "\n",
       "    .dataframe tbody tr th {\n",
       "        vertical-align: top;\n",
       "    }\n",
       "\n",
       "    .dataframe thead th {\n",
       "        text-align: right;\n",
       "    }\n",
       "</style>\n",
       "<table border=\"1\" class=\"dataframe\">\n",
       "  <thead>\n",
       "    <tr style=\"text-align: right;\">\n",
       "      <th></th>\n",
       "      <th>Employee</th>\n",
       "      <th>Dept</th>\n",
       "      <th>Project</th>\n",
       "    </tr>\n",
       "  </thead>\n",
       "  <tbody>\n",
       "    <tr>\n",
       "      <th>0</th>\n",
       "      <td>John</td>\n",
       "      <td>Finance</td>\n",
       "      <td>Budget</td>\n",
       "    </tr>\n",
       "    <tr>\n",
       "      <th>1</th>\n",
       "      <td>Makara</td>\n",
       "      <td>Data</td>\n",
       "      <td>Billing</td>\n",
       "    </tr>\n",
       "  </tbody>\n",
       "</table>\n",
       "</div>"
      ],
      "text/plain": [
       "  Employee     Dept  Project\n",
       "0     John  Finance   Budget\n",
       "1   Makara     Data  Billing"
      ]
     },
     "execution_count": 29,
     "metadata": {},
     "output_type": "execute_result"
    }
   ],
   "source": [
    "#merging data frames on conditions\n",
    "merge_df = pd.merge(df1,df2, on = 'Employee', how='left')\n",
    "pivot_table = df1.pivot(index='Employee', columns='Dept', values = 'Dept')\n",
    "pivot_table.fillna(0, inplace=True)\n",
    "merge_df"
   ]
  },
  {
   "cell_type": "code",
   "execution_count": null,
   "id": "7688ffdc-621f-4f64-8233-5c443ec248a4",
   "metadata": {},
   "outputs": [],
   "source": []
  }
 ],
 "metadata": {
  "kernelspec": {
   "display_name": "Python 3 (ipykernel)",
   "language": "python",
   "name": "python3"
  },
  "language_info": {
   "codemirror_mode": {
    "name": "ipython",
    "version": 3
   },
   "file_extension": ".py",
   "mimetype": "text/x-python",
   "name": "python",
   "nbconvert_exporter": "python",
   "pygments_lexer": "ipython3",
   "version": "3.12.4"
  }
 },
 "nbformat": 4,
 "nbformat_minor": 5
}
